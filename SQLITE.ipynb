{
 "cells": [
  {
   "cell_type": "code",
   "execution_count": 1,
   "metadata": {
    "collapsed": true
   },
   "outputs": [],
   "source": [
    "import sqlite3\n",
    "import pandas as pd\n",
    "import time\n",
    "import datetime\n",
    "import random\n",
    "import matplotlib.pyplot as plt\n",
    "import matplotlib.dates as mdates\n",
    "from matplotlib import style\n",
    "style.use('fivethirtyeight')"
   ]
  },
  {
   "cell_type": "code",
   "execution_count": 2,
   "metadata": {
    "collapsed": true
   },
   "outputs": [],
   "source": [
    "conn = sqlite3.connect('tutorial.db')\n",
    "c = conn.cursor()"
   ]
  },
  {
   "cell_type": "code",
   "execution_count": 3,
   "metadata": {},
   "outputs": [],
   "source": [
    "def create_table():\n",
    "    c.execute('CREATE TABLE IF NOT EXISTS stuffToPlot(unix REAL, datestamp TEXT, keyword TEXT, value REAL )')\n",
    "    # This will create a database names stufftoplot\n",
    "\n",
    "def data_entry():\n",
    "    c.execute(\"INSERT INTO stuffToplot VALUES(145672, '2016-01-01', 'Python',5)\") # It will update the values in the database\n",
    "    conn.commit() \n",
    "    #after making any changes to the databse, you need to commit them\n",
    "    #c.close()\n",
    "    #conn.close()\n",
    "\n",
    "create_table()\n",
    "data_entry()"
   ]
  },
  {
   "cell_type": "code",
   "execution_count": 4,
   "metadata": {
    "collapsed": true
   },
   "outputs": [],
   "source": [
    "#Now lets just not hard code the things instead use dyanamic variables\n",
    "def dyanamic_data_entry():\n",
    "    unix = time.time()\n",
    "    date = str(datetime.datetime.fromtimestamp(unix).strftime('%Y-%m-%d %H:%M:%S'))\n",
    "    keyword = 'Python'\n",
    "    value = random.randrange(0,10)\n",
    "    c.execute(\"INSERT INTO stuffToPlot (unix, datestamp, keyword, value) VALUES(?, ?, ?, ?)\",  \n",
    "             (unix, date, keyword, value))\n",
    "    conn.commit()\n",
    "    \n",
    "for i in range(10):\n",
    "    dyanamic_data_entry()\n",
    "    time.sleep(1) #we don't need that butwe want timestamp to go up ny 1 sec\n",
    "\n",
    "#c.close()\n",
    "#conn.close()\n",
    "    "
   ]
  },
  {
   "cell_type": "code",
   "execution_count": 5,
   "metadata": {},
   "outputs": [],
   "source": [
    "def read_from_db():\n",
    "    c.execute('SELECT * FROM stuffToPlot')\n",
    "    #data = c.fetchall()\n",
    "    #print(data)\n",
    "    for row in c.fetchall():\n",
    "        print(row)\n",
    "#read_from_db()"
   ]
  },
  {
   "cell_type": "code",
   "execution_count": 6,
   "metadata": {},
   "outputs": [
    {
     "data": {
      "image/png": "[encoded data removed]",
      "text/plain": [
       "<matplotlib.figure.Figure at 0x1100f7e10>"
      ]
     },
     "metadata": {},
     "output_type": "display_data"
    }
   ],
   "source": [
    "#Graphical visualization of the sqlite database\n",
    "def graph_data():\n",
    "    c.execute('SELECT unix, value FROM stuffToPlot')\n",
    "    dates = []\n",
    "    values = []\n",
    "    for row in c.fetchall():\n",
    "        dates.append(datetime.datetime.fromtimestamp(row[0]))\n",
    "        values.append(row[1])\n",
    "        \n",
    "    plt.plot_date(dates, values,'-')\n",
    "    plt.show()\n",
    "\n",
    "graph_data()\n"
   ]
  },
  {
   "cell_type": "code",
   "execution_count": 7,
   "metadata": {},
   "outputs": [
    {
     "name": "stdout",
     "output_type": "stream",
     "text": [
      "(145672.0, '2016-01-01', 'Python', 5.0)\n",
      "(1515458504.03649, '2018-01-09 06:11:44', 'Python', 4.0)\n",
      "(1515458505.043137, '2018-01-09 06:11:45', 'Python', 7.0)\n",
      "(1515458506.0464158, '2018-01-09 06:11:46', 'Python', 0.0)\n",
      "(1515458507.0530062, '2018-01-09 06:11:47', 'Python', 4.0)\n",
      "(1515458508.0622458, '2018-01-09 06:11:48', 'Python', 9.0)\n",
      "(1515458509.065475, '2018-01-09 06:11:49', 'Python', 8.0)\n",
      "(1515458510.0685802, '2018-01-09 06:11:50', 'Python', 9.0)\n",
      "(1515458511.078007, '2018-01-09 06:11:51', 'Python', 3.0)\n",
      "(1515458512.085801, '2018-01-09 06:11:52', 'Python', 0.0)\n",
      "(1515458513.115272, '2018-01-09 06:11:53', 'Python', 2.0)\n",
      "\n",
      "(145672.0, '2016-01-01', 'Python', 5.0)\n",
      "(1515458504.03649, '2018-01-09 06:11:44', 'Python', 4.0)\n",
      "(1515458505.043137, '2018-01-09 06:11:45', 'Python', 7.0)\n",
      "(1515458506.0464158, '2018-01-09 06:11:46', 'Python', 0.0)\n",
      "(1515458507.0530062, '2018-01-09 06:11:47', 'Python', 4.0)\n",
      "(1515458508.0622458, '2018-01-09 06:11:48', 'Python', 9.0)\n",
      "(1515458509.065475, '2018-01-09 06:11:49', 'Python', 8.0)\n",
      "(1515458510.0685802, '2018-01-09 06:11:50', 'Python', 9.0)\n",
      "(1515458511.078007, '2018-01-09 06:11:51', 'Python', 99.0)\n",
      "(1515458512.085801, '2018-01-09 06:11:52', 'Python', 0.0)\n",
      "(1515458513.115272, '2018-01-09 06:11:53', 'Python', 2.0)\n"
     ]
    }
   ],
   "source": [
    "#Update some stuff\n",
    "def update():\n",
    "    c.execute(\"SELECT * FROM stuffToPlot\")\n",
    "    [print(row) for row in c.fetchall()]\n",
    "    \n",
    "    c.execute('UPDATE stuffToPlot SET value = 99 WHERE value=3')\n",
    "    conn.commit()\n",
    "    print()\n",
    "    c.execute(\"SELECT * FROM stuffToPlot\")\n",
    "    [print(row) for row in c.fetchall()]\n",
    "    \n",
    "update()"
   ]
  },
  {
   "cell_type": "code",
   "execution_count": 9,
   "metadata": {},
   "outputs": [
    {
     "name": "stdout",
     "output_type": "stream",
     "text": [
      "##################################################\n",
      "(145672.0, '2016-01-01', 'Python', 5.0)\n",
      "(1515458504.03649, '2018-01-09 06:11:44', 'Python', 4.0)\n",
      "(1515458505.043137, '2018-01-09 06:11:45', 'Python', 7.0)\n",
      "(1515458506.0464158, '2018-01-09 06:11:46', 'Python', 0.0)\n",
      "(1515458507.0530062, '2018-01-09 06:11:47', 'Python', 4.0)\n",
      "(1515458508.0622458, '2018-01-09 06:11:48', 'Python', 9.0)\n",
      "(1515458509.065475, '2018-01-09 06:11:49', 'Python', 8.0)\n",
      "(1515458510.0685802, '2018-01-09 06:11:50', 'Python', 9.0)\n",
      "(1515458512.085801, '2018-01-09 06:11:52', 'Python', 0.0)\n",
      "(1515458513.115272, '2018-01-09 06:11:53', 'Python', 2.0)\n"
     ]
    }
   ],
   "source": [
    "#Deletion from the data\n",
    "def delete_edit():\n",
    "    c.execute(\"SELECT * FROM stuffToPlot\")\n",
    "    [print(row) for row in c.fetchall()]\n",
    "    \n",
    "    c.execute('DELETE FROM stuffToPlot WHERE value = 99')\n",
    "    conn.commit()\n",
    "    print(50*'#')\n",
    "    \n",
    "    c.execute(\"SELECT * FROM stuffToPlot\")\n",
    "    [print(row) for row in c.fetchall()]\n",
    "\n",
    "delete_edit()"
   ]
  },
  {
   "cell_type": "code",
   "execution_count": null,
   "metadata": {
    "collapsed": true
   },
   "outputs": [],
   "source": []
  },
  {
   "cell_type": "code",
   "execution_count": null,
   "metadata": {
    "collapsed": true
   },
   "outputs": [],
   "source": []
  }
 ],
 "metadata": {
  "kernelspec": {
   "display_name": "Python 3",
   "language": "python",
   "name": "python3"
  },
  "language_info": {
   "codemirror_mode": {
    "name": "ipython",
    "version": 3
   },
   "file_extension": ".py",
   "mimetype": "text/x-python",
   "name": "python",
   "nbconvert_exporter": "python",
   "pygments_lexer": "ipython3",
   "version": "3.6.1"
  }
 },
 "nbformat": 4,
 "nbformat_minor": 2
}
